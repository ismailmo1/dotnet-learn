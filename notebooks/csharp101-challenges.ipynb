{
 "cells": [
  {
   "attachments": {},
   "cell_type": "markdown",
   "metadata": {},
   "source": [
    "Collection of challenges taken from C#101 to build some muscle memory and get some hands on practice with C# syntax"
   ]
  },
  {
   "cell_type": "markdown",
   "metadata": {
    "dotnet_interactive": {
     "language": "markdown"
    },
    "polyglot_notebook": {
     "kernelName": "markdown"
    }
   },
   "source": [
    "# Challenge: Combining Branches and Loops\n",
    "\n",
    "Watch the full [C# 101 video](https://www.youtube.com/watch?v=qK7tUpaOXi8&list=PLdo4fOcmZ0oVxKLQCHpiUWun7vlJJvUiN&index=11) for this module.\n",
    "\n",
    "Here's a challenge:\n",
    ">\n",
    "> See if you can write C# code to find the sum of all integers 1 through 20 that are divisible by 3.\n",
    ">\n",
    "First, try on your own in this notebook below, or in Visual Studio, or in Visual Studio Code."
   ]
  },
  {
   "cell_type": "code",
   "execution_count": null,
   "metadata": {
    "dotnet_interactive": {
     "language": "csharp"
    },
    "polyglot_notebook": {
     "kernelName": "csharp"
    },
    "vscode": {
     "languageId": "polyglot-notebook"
    }
   },
   "outputs": [
    {
     "name": "stdout",
     "output_type": "stream",
     "text": [
      "63\n"
     ]
    }
   ],
   "source": [
    "int sum = 0;\n",
    "for (int i=1; i <=20; i++){\n",
    "    if (i % 3 == 0){\n",
    "        sum += i;\n",
    "    }\n",
    "}\n",
    "Console.WriteLine(sum);"
   ]
  },
  {
   "cell_type": "markdown",
   "metadata": {
    "dotnet_interactive": {
     "language": "markdown"
    },
    "polyglot_notebook": {
     "kernelName": "markdown"
    }
   },
   "source": [
    "# Playground\n",
    "\n",
    "Play around with what you've learned! Here's some starting ideas:\n",
    "> Make a list of groceries you need called `groceries`.\n",
    ">\n",
    "> Can you print out \"buy \\<grocery\\>!\" for every item?\n",
    ">\n",
    "> What's the 3rd item of the list? Is that the same as `groceries[3]?`\n",
    ">\n",
    "> Make sure to add \"toothpaste\".\n",
    ">\n",
    "> Remove your least favorite item.\n",
    ">\n",
    "> Now what's third on the list?"
   ]
  },
  {
   "cell_type": "code",
   "execution_count": null,
   "metadata": {
    "dotnet_interactive": {
     "language": "csharp"
    },
    "polyglot_notebook": {
     "kernelName": "csharp"
    },
    "vscode": {
     "languageId": "polyglot-notebook"
    }
   },
   "outputs": [
    {
     "name": "stdout",
     "output_type": "stream",
     "text": [
      "buy cheese\n",
      "buy bread\n",
      "buy coffee\n",
      "buy toothpaste\n"
     ]
    }
   ],
   "source": [
    "var groceries = new List<string> {\"cheese\", \"bread\", \"biscuits\", \"coffee\"};\n",
    "\n",
    "groceries.Add(\"toothpaste\");\n",
    "groceries.Remove(\"biscuits\");\n",
    "\n",
    "foreach (string grocery in groceries){\n",
    "    Console.WriteLine($\"buy {grocery}\");\n",
    "}"
   ]
  },
  {
   "cell_type": "markdown",
   "metadata": {
    "dotnet_interactive": {
     "language": "markdown"
    },
    "polyglot_notebook": {
     "kernelName": "markdown"
    }
   },
   "source": [
    "# Playground\n",
    "\n",
    "Play around with what you've learned! Here's some starting ideas:\n",
    "\n",
    "> Make a list of groceries, then sort them! what is the index that 'Carrots' is at?\n",
    ">\n",
    "> Try making a list of numbers! Do they sort in the way you expect?\n",
    ">\n",
    "> Print out the lists that you've made."
   ]
  },
  {
   "cell_type": "code",
   "execution_count": 3,
   "metadata": {
    "dotnet_interactive": {
     "language": "csharp"
    },
    "polyglot_notebook": {
     "kernelName": "csharp"
    },
    "vscode": {
     "languageId": "polyglot-notebook"
    }
   },
   "outputs": [
    {
     "name": "stdout",
     "output_type": "stream",
     "text": [
      "carrots at 3 before sorting.\n",
      "carrots at 1 after sorting.\n"
     ]
    }
   ],
   "source": [
    "var groceries = new List<string> {\"cheese\", \"biscuits\", \"coffee\", \"carrots\"};\n",
    "int carrotIndex = groceries.IndexOf(\"carrots\");\n",
    "Console.WriteLine($\"carrots at {carrotIndex} before sorting.\");\n",
    "\n",
    "groceries.Sort();\n",
    "carrotIndex = groceries.IndexOf(\"carrots\");\n",
    "Console.WriteLine($\"carrots at {carrotIndex} after sorting.\");"
   ]
  },
  {
   "cell_type": "code",
   "execution_count": 4,
   "metadata": {
    "dotnet_interactive": {
     "language": "csharp"
    },
    "polyglot_notebook": {
     "kernelName": "csharp"
    },
    "vscode": {
     "languageId": "polyglot-notebook"
    }
   },
   "outputs": [
    {
     "name": "stdout",
     "output_type": "stream",
     "text": [
      "5\n",
      "7\n",
      "23\n",
      "453\n"
     ]
    }
   ],
   "source": [
    "var numbers = new List<int>{453,23,5,7};\n",
    "\n",
    "numbers.Sort();\n",
    "\n",
    "foreach(int num in numbers){\n",
    "    Console.WriteLine(num);\n",
    "}"
   ]
  },
  {
   "cell_type": "markdown",
   "metadata": {
    "dotnet_interactive": {
     "language": "markdown"
    },
    "polyglot_notebook": {
     "kernelName": "markdown"
    }
   },
   "source": [
    "# Challenge: Fibonacci to 20th number\n",
    "\n",
    "We've given you a base of code that deals with Fibonacci. Can you make a list that has the first 20 fibonacci numbers?\n",
    "\n",
    "> Make and print a list that has the first 20 fibonacci numbers."
   ]
  },
  {
   "cell_type": "code",
   "execution_count": 19,
   "metadata": {
    "dotnet_interactive": {
     "language": "csharp"
    },
    "polyglot_notebook": {
     "kernelName": "csharp"
    },
    "vscode": {
     "languageId": "polyglot-notebook"
    }
   },
   "outputs": [
    {
     "name": "stdout",
     "output_type": "stream",
     "text": [
      "1\n",
      "1\n",
      "2\n",
      "3\n",
      "5\n",
      "8\n",
      "13\n",
      "21\n",
      "34\n",
      "55\n",
      "89\n",
      "144\n",
      "233\n",
      "377\n",
      "610\n",
      "987\n",
      "1597\n",
      "2584\n",
      "4181\n",
      "6765\n"
     ]
    }
   ],
   "source": [
    "// can use recursion too, but we're practicing lists here\n",
    "haha \n",
    "var fibonacciNumbers = new List <int> {1,1};\n",
    "\n",
    "int idx = 1;\n",
    "while (fibonacciNumbers.Count <20){\n",
    "    int currNum = fibonacciNumbers[idx];\n",
    "    int prevNum = fibonacciNumbers[idx-1];\n",
    "    int nextNum = currNum + prevNum;\n",
    "    fibonacciNumbers.Add(nextNum);\n",
    "    idx ++;\n",
    "}\n",
    "\n",
    "foreach(int num in fibonacciNumbers){\n",
    "    Console.WriteLine(num);\n",
    "};"
   ]
  },
  {
   "cell_type": "markdown",
   "metadata": {
    "dotnet_interactive": {
     "language": "markdown"
    },
    "polyglot_notebook": {
     "kernelName": "markdown"
    }
   },
   "source": [
    "# Review\n",
    "\n",
    "You did it! You've now successfully made a bank account class that has the following attributes:\n",
    "\n",
    "> It has a 10-digit number that uniquely identifies the bank account.\n",
    ">\n",
    "> It has a string that stores the name or names of the owners.\n",
    ">\n",
    "> The balance can be retrieved.\n",
    ">\n",
    "> It accepts deposits.\n",
    ">\n",
    "> It accepts withdrawals.\n",
    ">\n",
    "> The initial balance must be positive.\n",
    ">\n",
    "> Withdrawals cannot result in a negative balance.\n",
    ">\n",
    "\n",
    "## Extra credit\n",
    "\n",
    "Now that you've created a bank account class, you can play around with it! Here's a challenge:\n",
    "> Create a way to list out the list of transactions, including the time and notes."
   ]
  },
  {
   "cell_type": "code",
   "execution_count": 1,
   "metadata": {
    "dotnet_interactive": {
     "language": "csharp"
    },
    "polyglot_notebook": {
     "kernelName": "csharp"
    },
    "vscode": {
     "languageId": "polyglot-notebook"
    }
   },
   "outputs": [],
   "source": [
    "using System.Collections.Generic;\n",
    "\n",
    "public class Transaction\n",
    "{\n",
    "    // Properties\n",
    "    public decimal Amount { get; }\n",
    "    public DateTime Date { get; }\n",
    "    public string Notes\n",
    "    {\n",
    "        get;\n",
    "\n",
    "    }\n",
    "\n",
    "    // Constructor\n",
    "    public Transaction(decimal amount, DateTime date, string note)\n",
    "    {\n",
    "        this.Amount = amount;\n",
    "        this.Date = date;\n",
    "        this.Notes = note;\n",
    "    }\n",
    "}\n",
    "\n",
    "public class BankAccount\n",
    "{\n",
    "    // Properties\n",
    "    public string Number { get; }\n",
    "    public string Owner { get; set; }\n",
    "    public decimal Balance\n",
    "    {\n",
    "        get\n",
    "\n",
    "        {\n",
    "            decimal balance = 0;\n",
    "            foreach (var item in allTransactions)\n",
    "            {\n",
    "                balance += item.Amount;\n",
    "            }\n",
    "\n",
    "            return balance;\n",
    "        }\n",
    "\n",
    "\n",
    "    }\n",
    "    private static int accountNumberSeed = 1234567890;\n",
    "    private List<Transaction> allTransactions = new List<Transaction>();\n",
    "\n",
    "    // Constructor\n",
    "    public BankAccount(string name, decimal initialBalance)\n",
    "    {\n",
    "        this.Owner = name;\n",
    "        this.Number = accountNumberSeed.ToString();\n",
    "        accountNumberSeed++;\n",
    "        MakeDeposit(initialBalance, DateTime.Now, \"Initial balance\");\n",
    "\n",
    "    }\n",
    "\n",
    "    // Functions\n",
    "    public void MakeDeposit(decimal amount, DateTime date, string note)\n",
    "    {\n",
    "        if (amount <= 0)\n",
    "        {\n",
    "            throw new ArgumentOutOfRangeException(nameof(amount), \"Amount of deposit must be positive\");\n",
    "        }\n",
    "        var deposit = new Transaction(amount, date, note);\n",
    "        allTransactions.Add(deposit);\n",
    "    }\n",
    "\n",
    "    public void MakeWithdrawal(decimal amount, DateTime date, string note)\n",
    "    {\n",
    "        if (amount <= 0)\n",
    "        {\n",
    "            throw new ArgumentOutOfRangeException(nameof(amount), \"Amount of withdrawal must be positive\");\n",
    "        }\n",
    "        if (Balance - amount < 0)\n",
    "        {\n",
    "            throw new InvalidOperationException(\"Not sufficient funds for this withdrawal\");\n",
    "        }\n",
    "        var withdrawal = new Transaction(-amount, date, note);\n",
    "        allTransactions.Add(withdrawal);\n",
    "        }\n",
    "    \n",
    "    public void ListTransactions()\n",
    "    {\n",
    "        //write header\n",
    "        Console.WriteLine($\"Date\\t\\t\\tAmount\\t\\tNotes\");\n",
    "\n",
    "        foreach (var transaction in allTransactions)\n",
    "        {\n",
    "            Console.WriteLine($\"{transaction.Date}\\t{transaction.Amount}\\t\\t{transaction.Notes}\");\n",
    "        }\n",
    "    }\n",
    "}"
   ]
  },
  {
   "cell_type": "code",
   "execution_count": 2,
   "metadata": {
    "dotnet_interactive": {
     "language": "csharp"
    },
    "polyglot_notebook": {
     "kernelName": "csharp"
    },
    "vscode": {
     "languageId": "polyglot-notebook"
    }
   },
   "outputs": [
    {
     "name": "stdout",
     "output_type": "stream",
     "text": [
      "Account 1234567890 was created for Ismail with 1000 dollars\n",
      "500\n",
      "600\n"
     ]
    }
   ],
   "source": [
    "var account = new BankAccount(\"Ismail\", 1000);\n",
    "Console.WriteLine($\"Account {account.Number} was created for {account.Owner} with {account.Balance} dollars\");\n",
    "\n",
    "account.MakeWithdrawal(500, DateTime.Now, \"Rent payment\");  //Added test code\n",
    "Console.WriteLine(account.Balance);\n",
    "account.MakeDeposit(100, DateTime.Now, \"Friend paid me back\");\n",
    "Console.WriteLine(account.Balance);"
   ]
  },
  {
   "cell_type": "code",
   "execution_count": 3,
   "metadata": {
    "dotnet_interactive": {
     "language": "csharp"
    },
    "polyglot_notebook": {
     "kernelName": "csharp"
    },
    "vscode": {
     "languageId": "polyglot-notebook"
    }
   },
   "outputs": [
    {
     "name": "stdout",
     "output_type": "stream",
     "text": [
      "Date\t\t\tAmount\t\tNotes\n",
      "22/01/2023 23:35:27\t1000\t\tInitial balance\n",
      "22/01/2023 23:35:27\t-500\t\tRent payment\n",
      "22/01/2023 23:35:27\t100\t\tFriend paid me back\n"
     ]
    }
   ],
   "source": [
    "account.ListTransactions();"
   ]
  }
 ],
 "metadata": {
  "kernelspec": {
   "display_name": ".NET (C#)",
   "language": "C#",
   "name": ".net-csharp"
  },
  "polyglot_notebook": {
   "kernelInfo": {
    "defaultKernelName": "csharp",
    "items": [
     {
      "aliases": [
       "c#",
       "C#"
      ],
      "languageName": "C#",
      "name": "csharp"
     },
     {
      "aliases": [
       "frontend"
      ],
      "name": "vscode"
     },
     {
      "aliases": [],
      "languageName": "Mermaid",
      "name": "mermaid"
     },
     {
      "aliases": [],
      "name": ".NET"
     },
     {
      "aliases": [
       "f#",
       "F#"
      ],
      "languageName": "F#",
      "name": "fsharp"
     },
     {
      "aliases": [],
      "languageName": "HTML",
      "name": "html"
     },
     {
      "aliases": [],
      "languageName": "KQL",
      "name": "kql"
     },
     {
      "aliases": [
       "powershell"
      ],
      "languageName": "PowerShell",
      "name": "pwsh"
     },
     {
      "aliases": [],
      "languageName": "SQL",
      "name": "sql"
     },
     {
      "aliases": [],
      "name": "value"
     }
    ]
   }
  }
 },
 "nbformat": 4,
 "nbformat_minor": 2
}
